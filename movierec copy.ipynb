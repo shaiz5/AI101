{
  "cells": [
    {
      "cell_type": "code",
      "execution_count": 5,
      "metadata": {
        "_cell_guid": "b1076dfc-b9ad-4769-8c92-a6c4dae69d19",
        "_uuid": "8f2839f25d086af736a60e9eeb907d3b93b6e0e5",
        "execution": {
          "iopub.execute_input": "2021-06-21T12:32:55.394360Z",
          "iopub.status.busy": "2021-06-21T12:32:55.393741Z",
          "iopub.status.idle": "2021-06-21T12:32:55.415999Z",
          "shell.execute_reply": "2021-06-21T12:32:55.414664Z",
          "shell.execute_reply.started": "2021-06-21T12:32:55.394257Z"
        },
        "id": "NaLfFKgPqvey",
        "trusted": true
      },
      "outputs": [],
      "source": [
        "import numpy as np # linear algebra\n",
        "import pandas as pd # data processing, CSV file I/O (e.g. pd.read_csv)\n",
        "movies = pd.read_csv('tmdb_5000_movies.csv')\n",
        "credits = pd.read_csv('tmdb_5000_credits.csv')\n",
        "# movies.head(2)\n",
        "# movies.shape\n",
        "# credits.head()\n",
        "movies = movies.merge(credits,on='title')\n",
        "# print(movies)\n",
        "movies.head()\n",
        "# budget\n",
        "# homepage\n",
        "# id\n",
        "# original_language\n",
        "# original_title\n",
        "# popularity\n",
        "# production_comapny\n",
        "# production_countries\n",
        "# release-date(not sure)\n",
        "movies = movies[['movie_id','title','overview','genres','keywords','cast','crew']]\n",
        "# movies.head()\n",
        "import ast\n",
        "def convert(text):\n",
        "    L = []\n",
        "    for i in ast.literal_eval(text):\n",
        "        L.append(i['name'])\n",
        "    return L\n",
        "movies.dropna(inplace=True)\n",
        "movies['genres'] = movies['genres'].apply(convert)\n",
        "# movies.head()\n",
        "movies['keywords'] = movies['keywords'].apply(convert)\n",
        "# movies.head()\n",
        "# import ast\n",
        "# b=ast.literal_eval('[{\"id\": 28, \"name\": \"Action\"}, {\"id\": 12, \"name\": \"Adventure\"}, {\"id\": 14, \"name\": \"Fantasy\"}, {\"id\": 878, \"name\": \"Science Fiction\"}]')\n",
        "# # print(b)\n",
        "def convert3(text):\n",
        "    L = []\n",
        "    counter = 0\n",
        "    for i in ast.literal_eval(text):\n",
        "        if counter < 3:\n",
        "            L.append(i['name'])\n",
        "        counter+=1\n",
        "    return L\n",
        "movies['cast'] = movies['cast'].apply(convert)\n",
        "# movies.head()\n",
        "def fetch_director(text):\n",
        "    L = []\n",
        "    for i in ast.literal_eval(text):\n",
        "        if i['job'] == 'Director':\n",
        "            L.append(i['name'])\n",
        "    return L\n",
        "movies['crew'] = movies['crew'].apply(fetch_director)\n",
        "movies['overview'] = movies['overview'].apply(lambda x:x.split())\n",
        "# movies.sample(5)\n",
        "def collapse(L):\n",
        "    L1 = []\n",
        "    for i in L:\n",
        "        L1.append(i.replace(\" \",\"\"))\n",
        "    return L1\n",
        "movies['cast'] = movies['cast'].apply(collapse)\n",
        "movies['crew'] = movies['crew'].apply(collapse)\n",
        "movies['genres'] = movies['genres'].apply(collapse)\n",
        "movies['keywords'] = movies['keywords'].apply(collapse)\n",
        "# movies.head()\n",
        "movies['tags'] = movies['overview'] + movies['genres'] + movies['keywords'] + movies['cast'] + movies['crew']\n",
        "# movies.head()\n",
        "new = movies.drop(columns=['overview','genres','keywords','cast','crew'])\n",
        "# new.to_csv('tags1.csv')\n",
        "#new.head()\n",
        "new['tags'] = new['tags'].apply(lambda x:\" \".join(x))\n",
        "# new.head()\n",
        "# new.to_csv('tags.csv')"
      ]
    },
    {
      "cell_type": "code",
      "execution_count": 6,
      "metadata": {
        "execution": {
          "iopub.execute_input": "2021-06-21T12:38:06.545110Z",
          "iopub.status.busy": "2021-06-21T12:38:06.544599Z",
          "iopub.status.idle": "2021-06-21T12:38:07.488307Z",
          "shell.execute_reply": "2021-06-21T12:38:07.487238Z",
          "shell.execute_reply.started": "2021-06-21T12:38:06.545079Z"
        },
        "id": "AcSdNqYSqve-",
        "trusted": true
      },
      "outputs": [
        {
          "name": "stderr",
          "output_type": "stream",
          "text": [
            "c:\\Program Files\\Python310\\lib\\site-packages\\sklearn\\utils\\extmath.py:189: RuntimeWarning: invalid value encountered in matmul\n",
            "  ret = a @ b\n"
          ]
        }
      ],
      "source": [
        "from sklearn.feature_extraction.text import CountVectorizer\n",
        "from sklearn.metrics.pairwise import cosine_similarity\n",
        "import pandas as pd\n",
        "\n",
        "cv = CountVectorizer(max_features=5000, stop_words='english')\n",
        "vector = cv.fit_transform(new['tags']).toarray()\n",
        "similarity = cosine_similarity(vector)"
      ]
    },
    {
      "cell_type": "code",
      "execution_count": 7,
      "metadata": {},
      "outputs": [],
      "source": [
        "\n",
        "def recommend(movie):\n",
        "  print(f\"Movie Selected is: {movie}\", end = \"\\n\\n\")\n",
        "  index = new[new['title'] == movie].index[0]\n",
        "  enumerated_simil = list(enumerate(similarity[index]))\n",
        "  sorted_enumerated_simil = sorted(enumerated_simil, reverse=True, key=lambda x: x[1])\n",
        "  print(f\"Similar movies are: \")\n",
        "  for movie_id, simil_score in sorted_enumerated_simil[1:6]:\n",
        "    print(\" \", new.iloc[movie_id].title)"
      ]
    },
    {
      "cell_type": "code",
      "execution_count": 8,
      "metadata": {},
      "outputs": [
        {
          "data": {
            "application/vnd.jupyter.widget-view+json": {
              "model_id": "07e5a63d4a1d431db518a446fb415c9c",
              "version_major": 2,
              "version_minor": 0
            },
            "text/plain": [
              "interactive(children=(Dropdown(description='movie', options=('Avatar', \"Pirates of the Caribbean: At World's E…"
            ]
          },
          "metadata": {},
          "output_type": "display_data"
        },
        {
          "data": {
            "text/plain": [
              "<function __main__.recommend(movie)>"
            ]
          },
          "execution_count": 8,
          "metadata": {},
          "output_type": "execute_result"
        }
      ],
      "source": [
        "from ipywidgets import interact \n",
        "\n",
        "interact(recommend, movie=new['title'])"
      ]
    }
  ],
  "metadata": {
    "colab": {
      "provenance": []
    },
    "kernelspec": {
      "display_name": "Python 3",
      "language": "python",
      "name": "python3"
    },
    "language_info": {
      "codemirror_mode": {
        "name": "ipython",
        "version": 3
      },
      "file_extension": ".py",
      "mimetype": "text/x-python",
      "name": "python",
      "nbconvert_exporter": "python",
      "pygments_lexer": "ipython3",
      "version": "3.10.11"
    }
  },
  "nbformat": 4,
  "nbformat_minor": 0
}
